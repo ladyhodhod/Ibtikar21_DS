{
 "cells": [
  {
   "cell_type": "markdown",
   "metadata": {},
   "source": [
    "# Predicting Covid-19 Survival Based on Patient Demographics "
   ]
  },
  {
   "cell_type": "markdown",
   "metadata": {},
   "source": [
    "# Introduction\n",
    "\n",
    "In this workshop, we will analyze and explore a very insightful **COVID-19 dataset**.\n",
    "\n",
    "The goal of this data science mini-project is to predict the survival of the patients' based on their demographics and health status. \n",
    "\n",
    "Covid-19 being a fairly recent virus, any insights would be helpful to understand potential disease risk and causes.  Data science tools and algorithms could be used in assessing the safety and quality of care provided based on the patient's risk assessment. \n",
    "\n",
    "Therefore, we will try to understand if the relationship between COVID-19 survival/death and some variables describing the patient's demographics such as gender, age, ethnicity, etc. Also we will explore the current trends of the death variable. **Yet, our main question is the following: Can we predict a COVID-19 patients' mortality?** "
   ]
  },
  {
   "cell_type": "markdown",
   "metadata": {},
   "source": [
    "## Content\n",
    "\n",
    "In this workshop we will explore the following parts:\n",
    "\n",
    "1. [Data Collection](#Data-Collection)\n",
    "2. [Data Cleaning](#Data-Cleaning)\n",
    "3. [Exploratory Data Analysis](#Exploratory-Data-Analysis)\n",
    "4. [Modeling](#Modeling)"
   ]
  },
  {
   "cell_type": "markdown",
   "metadata": {},
   "source": [
    "## Importing Libraries"
   ]
  },
  {
   "cell_type": "code",
   "execution_count": 3,
   "metadata": {},
   "outputs": [],
   "source": [
    "import numpy as np\n",
    "import pandas as pd\n",
    "import zipfile\n",
    "import matplotlib.pyplot as plt\n",
    "import seaborn as sns\n",
    "%matplotlib inline\n",
    "from sklearn.linear_model import LogisticRegression\n",
    "from sklearn.metrics import classification_report, confusion_matrix\n",
    "from sklearn.model_selection import train_test_split\n",
    "from sklearn import preprocessing \n",
    "import missingno as msno\n",
    "import warnings\n",
    "warnings.filterwarnings(\"ignore\")"
   ]
  },
  {
   "cell_type": "code",
   "execution_count": 2,
   "metadata": {},
   "outputs": [],
   "source": [
    "# HELPER FUNCTIONS\n",
    "# DO NOT TOUCH THE CODE IN THIS CELL\n",
    "def draw_pie(df, variable, title):\n",
    "    plt.figure(figsize=(30,20))\n",
    "    plt.subplots_adjust(left=0.125, bottom=0.1, right=0.9, top=0.9,\n",
    "                      wspace=0.5, hspace=0.2)\n",
    "    plt.subplot(141)\n",
    "    plt.title(title,fontsize = 20)\n",
    "    df[variable].value_counts().plot.pie(autopct=\"%1.1f%%\")\n",
    "    \n",
    "def draw_barplot(data, variable, orient='v'):\n",
    "    if orient=='v':\n",
    "        a=sns.countplot(data[variable])\n",
    "    else:\n",
    "        a=sns.countplot(y=data[variable], data=data, orient=orient)\n",
    "    a.set_xlabel(variable,fontsize=20)\n",
    "    a.set_ylabel(\"Number of cases\",fontsize=20)\n",
    "    a.tick_params(labelsize=15)\n",
    "\n",
    "    \n",
    "def draw_barplot_with_hue(data, variable, h):\n",
    "    b = sns.countplot(x = variable,  data = data, hue = h, palette = 'Set1')\n",
    "    b.set_xlabel(variable,fontsize=20)\n",
    "    b.set_ylabel(\"Number of cases\",fontsize=20)\n",
    "    b.tick_params(labelsize=15)"
   ]
  },
  {
   "cell_type": "markdown",
   "metadata": {},
   "source": [
    "# Part1.  Data Collection \n",
    "\n",
    "In this workshop, we will skip the data collection step from the data science process, and use a readily available dataset: The <a href=\"https://data.cdc.gov/Case-Surveillance/COVID-19-Case-Surveillance-Public-Use-Data/vbim-akqf\"> \n",
    "dataset </a>. This dataset is provided from <a href=\"https://www.cdc.gov\">Centers for Disease Control and Prevention</a>. This organization runs a COVID-19 case surveillance system database that is based in the US. \n",
    "\n",
    "CDC have worked on developing technology to help ensure that disease reporting systems are integrated in US states. \n",
    "\n",
    "This reporting system initiated this rich dataset that includes individual-level data reported of confirmed and probable cases of COVID-19. \n",
    "\n",
    "The dataset consist of 8 columns labelled as:\n",
    "\n",
    "- **case_status**: Laboratory-confirmed case; Probable case\n",
    "- **sex**: Male; Female; Other\n",
    "- **age_group**: 0 - 9 Years; 10 - 19 Years; 20 - 39 Years; 40 - 49 Years; 50 - 59 Years; 60 - 69 Years; 70 - 79     Years; 80 + Years\n",
    "- **Race and ethnicity**: Hispanic/Latino; American Indian / Alaska Native, Non-Hispanic; Asian, Non-Hispanic; Black, Non-Hispanic; Native Hawaiian / Other Pacific Islander, Non-Hispanic; White, Non-Hispanic; Multiple/Other, Non-Hispanic\n",
    "- **medcond**: Presence of underlying comorbidity or disease\n",
    "- **hospitalized**: Hospitalization status (Y/N)\n",
    "- **icu**: Intensive Care Unit admission status (Y/N)\n",
    "- **death**: Death status (Y/N)"
   ]
  },
  {
   "cell_type": "markdown",
   "metadata": {},
   "source": [
    "### Run the cell below to load and read the dataset"
   ]
  },
  {
   "cell_type": "code",
   "execution_count": 5,
   "metadata": {
    "scrolled": true
   },
   "outputs": [],
   "source": [
    "data = pd.read_csv(\"https://github.com/ladyhodhod/Ibtikar21_DS/blob/main/COVID-19_Case_Surveillance_Public_Use_Data_mini.csv.zip?raw=true\",compression='zip')"
   ]
  },
  {
   "cell_type": "markdown",
   "metadata": {},
   "source": [
    "### In order to display the content of this dataset, we can use the code in the cell below. When you run it, you will see random sample of recorded cases."
   ]
  },
  {
   "cell_type": "code",
   "execution_count": null,
   "metadata": {
    "scrolled": true
   },
   "outputs": [],
   "source": [
    "data.sample(3)"
   ]
  },
  {
   "cell_type": "markdown",
   "metadata": {},
   "source": [
    "### Take a few minutes to read the content of the table above. Getting to know the data, is a crucial step in data science."
   ]
  },
  {
   "cell_type": "code",
   "execution_count": null,
   "metadata": {
    "scrolled": true
   },
   "outputs": [],
   "source": [
    "print (\"Our dataset contains:\", \"{:,}\".format(data.shape[0]), \"examples of COVID-19 recorded patients\")"
   ]
  },
  {
   "cell_type": "markdown",
   "metadata": {},
   "source": [
    "### In order to get a detailed description of each variable (field), run the cell below. What do you observe?"
   ]
  },
  {
   "cell_type": "code",
   "execution_count": null,
   "metadata": {},
   "outputs": [],
   "source": [
    "data.describe().T"
   ]
  },
  {
   "cell_type": "markdown",
   "metadata": {},
   "source": [
    "# Part 2. Data Cleaning\n",
    "\n",
    "In its original full version, this dataset had 5 million entries of data with lots of missing values. Given the huge dataset, we had the flexibility to eliminate all rows with missing data. We also dropped some other details like dates to make the case simpler for this workshop."
   ]
  },
  {
   "cell_type": "markdown",
   "metadata": {},
   "source": [
    "### Run the following cell to check if there is any missing values for each variable in the dataset!  What do you observe? Discuss your observation with your teammates. "
   ]
  },
  {
   "cell_type": "code",
   "execution_count": null,
   "metadata": {},
   "outputs": [],
   "source": [
    "msno.matrix(data)"
   ]
  },
  {
   "cell_type": "markdown",
   "metadata": {},
   "source": [
    "This visual summary shows that there is not much of missing values for each of the variables we are studying.\n",
    "Let's explore this further!\n",
    "\n",
    "### Run the cell below to count missing values in our dataset."
   ]
  },
  {
   "cell_type": "code",
   "execution_count": null,
   "metadata": {
    "scrolled": false
   },
   "outputs": [],
   "source": [
    "data.isnull().sum()"
   ]
  },
  {
   "cell_type": "markdown",
   "metadata": {},
   "source": [
    "The numbers above show clearly that there are no null missing values in our dataset. This means that for every patient recorded, all the fields are indicated. Let's confirm this by looking at each field separately!"
   ]
  },
  {
   "cell_type": "markdown",
   "metadata": {},
   "source": [
    "### We start with the variable `sex`. In the following cell, we will count the number of unique values in the column `sex`. Basically we would like to check if there are cases for which the gender  was missing, and a value different than Null was assigned instead."
   ]
  },
  {
   "cell_type": "code",
   "execution_count": null,
   "metadata": {
    "scrolled": false
   },
   "outputs": [],
   "source": [
    "pd.DataFrame(data.sex.value_counts())"
   ]
  },
  {
   "cell_type": "markdown",
   "metadata": {},
   "source": [
    "### Explore the missing values for the variable `race_ethnicity`."
   ]
  },
  {
   "cell_type": "code",
   "execution_count": null,
   "metadata": {},
   "outputs": [],
   "source": [
    "### Write your code here!\n"
   ]
  },
  {
   "cell_type": "markdown",
   "metadata": {},
   "source": [
    "### Let's visualize each of them using a bar plot!"
   ]
  },
  {
   "cell_type": "code",
   "execution_count": 6,
   "metadata": {},
   "outputs": [
    {
     "data": {
      "image/png": "[encoded data removed]",
      "text/plain": [
       "<Figure size 432x288 with 1 Axes>"
      ]
     },
     "metadata": {
      "needs_background": "light"
     },
     "output_type": "display_data"
    }
   ],
   "source": [
    "search_values= ['Missing', 'Unknown']\n",
    "draw_barplot(data[data.sex.str.contains('|'.join(search_values ))], 'sex')"
   ]
  },
  {
   "cell_type": "markdown",
   "metadata": {},
   "source": [
    "### Now, let's check the race_ethnicity variable. Run the cell below to generate the distribution of the recorded patient's race and ethnicity. What do you observe?"
   ]
  },
  {
   "cell_type": "code",
   "execution_count": null,
   "metadata": {
    "scrolled": false
   },
   "outputs": [],
   "source": [
    "draw_barplot(data, 'race_ethnicity', 'h')"
   ]
  },
  {
   "cell_type": "markdown",
   "metadata": {},
   "source": [
    "### Now,  Let's check the `death` variable. Run the cell below to generate the distribution of death vs. non death in the recorded cases. What do you observe? How many COVID-19 affected patients survived? How many of them passed away?"
   ]
  },
  {
   "cell_type": "code",
   "execution_count": null,
   "metadata": {
    "scrolled": true
   },
   "outputs": [],
   "source": [
    "draw_barplot(data, 'death')"
   ]
  },
  {
   "cell_type": "markdown",
   "metadata": {},
   "source": [
    "\n",
    "### Exercise: What do you think is the effect of missing data on the analysis? What would be a good strategy to fix this issue?"
   ]
  },
  {
   "cell_type": "markdown",
   "metadata": {},
   "source": [
    "In Data Science, missing data data is an everyday problem that data scientists need to deal with, as it poses a serious challenge to the whole study. Before we can use data with missing data fields, you need to transform those fields so they can be used for analysis and modelling.\n",
    "\n",
    "Some causes of the missing data are, for example, a refusal to answer some questions in a survey. There are some strategies for handling missing data, like identify nonrespondents by creating one or more special codes for those entries of the data matrix that are not observed, such as \"don't know\" or \"refuse to answer\", \"missing\", \"unknown\". Another way is excluding units that have missing value. This last strategy is very inappropriate because we are usually interested in making inferences about the entire target population, rather than the portion of the target population of some dataset.\n",
    "\n",
    "Hence, However, for the sake of practicality, we follow the most basic strategy to clean the data from Missing values: **Imputation** or removal of all of them. \n",
    "\n",
    "*Note: that this is a very dangerous decision, as we might end up with a very small dataset!*"
   ]
  },
  {
   "cell_type": "markdown",
   "metadata": {},
   "source": [
    "### Run the following cell to drop all the examples where any of the variables have a value of `Missing` or `Unknown`.  We store the result in a new data that we call `clean_data`, that we will use in the Data Analysis part"
   ]
  },
  {
   "cell_type": "code",
   "execution_count": null,
   "metadata": {},
   "outputs": [],
   "source": [
    "todrop= ['Missing', 'Unknown']\n",
    "\n",
    "clean_data = data[~data['age_group'].isin(todrop) & ~data['sex'].isin(todrop) & ~data['race_ethnicity'].isin(todrop) & ~data['hospitalized'].isin(todrop) & ~data['icu'].isin(todrop) & ~data['death'].isin(todrop) & ~data['medcond'].isin(todrop)]\n",
    "clean_data.sample(5)"
   ]
  },
  {
   "cell_type": "markdown",
   "metadata": {},
   "source": [
    "# Part 3. Exploratory Data Analysis\n",
    "\n",
    "In this section, we will explore the trends and correlations of the fields describing a patient in our records against the `death` variable. We will first look at the distributions of our variables. Since all the variables are categorical, we will create bar charts."
   ]
  },
  {
   "cell_type": "markdown",
   "metadata": {},
   "source": [
    "### Let's plot again the death vs. survival distribution. What do you observe?"
   ]
  },
  {
   "cell_type": "code",
   "execution_count": null,
   "metadata": {
    "scrolled": true
   },
   "outputs": [],
   "source": [
    "draw_pie(clean_data, 'death', 'Death vs. survival distribution in our dataset')"
   ]
  },
  {
   "cell_type": "markdown",
   "metadata": {},
   "source": [
    "### To get the specific value counts representing the number of examples in each class (death vs. no death), run the following cell."
   ]
  },
  {
   "cell_type": "code",
   "execution_count": null,
   "metadata": {},
   "outputs": [],
   "source": [
    "#final number of true cases\n",
    "clean_data.death.value_counts()"
   ]
  },
  {
   "cell_type": "markdown",
   "metadata": {},
   "source": [
    "### To get the counts in the form of percentages, run the following cell"
   ]
  },
  {
   "cell_type": "code",
   "execution_count": null,
   "metadata": {},
   "outputs": [],
   "source": [
    "clean_data.death.value_counts(normalize=True)"
   ]
  },
  {
   "cell_type": "markdown",
   "metadata": {},
   "source": [
    "### It is your turn: Using a the `draw_pie() ` function (just like we did for the death variable), explore the distribution of cases per sex. What do you observe?"
   ]
  },
  {
   "cell_type": "code",
   "execution_count": null,
   "metadata": {},
   "outputs": [],
   "source": [
    "# the draw_pie function requires 3 paramaters: the dataset, the variable to be explored, and the title of the plot.\n"
   ]
  },
  {
   "cell_type": "markdown",
   "metadata": {},
   "source": [
    "### It is your turn: Using a the `draw_pie() ` function (just like we did for the death variable), explore the distribution of cases per age_group. What do you observe?\n"
   ]
  },
  {
   "cell_type": "code",
   "execution_count": null,
   "metadata": {
    "scrolled": true
   },
   "outputs": [],
   "source": [
    "# write your code here.\n"
   ]
  },
  {
   "cell_type": "markdown",
   "metadata": {},
   "source": [
    "### This does not look good, and is not easy to read. Let's explore another kind of a plot: Bar plots.\n",
    "In data science, data visualization is the graphical representation of information and data. By using visual elements like charts, graphs, and maps, data visualization tools provide an accessible way to see and understand trends, outliers, and patterns in data. Data scientists should choose the right visual element depending on the task."
   ]
  },
  {
   "cell_type": "code",
   "execution_count": null,
   "metadata": {
    "scrolled": true
   },
   "outputs": [],
   "source": [
    "draw_barplot(clean_data, 'age_group', 'h')"
   ]
  },
  {
   "cell_type": "markdown",
   "metadata": {},
   "source": [
    "Youpiii! This looks nicer, cleaner and easier to read and interpret. \n",
    "### What do you observe?"
   ]
  },
  {
   "cell_type": "markdown",
   "metadata": {},
   "source": [
    "### Let's explore the number of registered cases per ethnicty. To do so, complete the code in the cell below. What do you observe?"
   ]
  },
  {
   "cell_type": "code",
   "execution_count": null,
   "metadata": {},
   "outputs": [],
   "source": [
    "# Replace 'age_group' with 'race_ethnicity' in the following line:\n",
    "draw_barplot(clean_data, 'age_group')"
   ]
  },
  {
   "cell_type": "markdown",
   "metadata": {},
   "source": [
    "### Let's explore the number of hospitalized cases per age group. To do so, run the code in the cell below. What do you observe?"
   ]
  },
  {
   "cell_type": "code",
   "execution_count": null,
   "metadata": {
    "scrolled": true
   },
   "outputs": [],
   "source": [
    "draw_barplot_with_hue(clean_data, 'hospitalized', 'age_group')"
   ]
  },
  {
   "cell_type": "markdown",
   "metadata": {},
   "source": [
    "### Now, let's draw the same plot but exploring the number of hospitalized cases having an underlying comorbidity or disease. Run the code in the cell below. How can you interpret the results obtained?"
   ]
  },
  {
   "cell_type": "code",
   "execution_count": null,
   "metadata": {
    "scrolled": false
   },
   "outputs": [],
   "source": [
    "draw_barplot_with_hue(clean_data, 'hospitalized', 'medcond')"
   ]
  },
  {
   "cell_type": "markdown",
   "metadata": {},
   "source": [
    "### Question: Which conclusions can we draw from the plots and variables explored above? For the `medcond` what  do you think is missing? what would be great to have, to help understand the effect of a medical condition compared to another?"
   ]
  },
  {
   "cell_type": "markdown",
   "metadata": {},
   "source": [
    "Write your answer here"
   ]
  },
  {
   "cell_type": "markdown",
   "metadata": {},
   "source": [
    "Now, let's focus on the death variable and its values, also how is its value depending on the rest of the fields/variables."
   ]
  },
  {
   "cell_type": "markdown",
   "metadata": {},
   "source": [
    "### Exploring each of the  variables against the death variable\n",
    "\n",
    "The following cell, contains code that will generate a diagram showing the age categories Survival distribution. Run it and interpret the chart obtained."
   ]
  },
  {
   "cell_type": "code",
   "execution_count": null,
   "metadata": {},
   "outputs": [],
   "source": [
    "draw_barplot_with_hue(clean_data, 'death', 'age_group')"
   ]
  },
  {
   "cell_type": "markdown",
   "metadata": {},
   "source": [
    "### It is your turn: copy the code from the cell above, and generate the survival distribution per gender (think of using the `sex` variable instead of `age_group`."
   ]
  },
  {
   "cell_type": "code",
   "execution_count": null,
   "metadata": {},
   "outputs": [],
   "source": [
    "draw_barplot_with_hue(clean_data, 'death', 'sex')"
   ]
  },
  {
   "cell_type": "markdown",
   "metadata": {},
   "source": [
    "### It is your turn: copy the code from the cell above, and generate the survival distribution per race and ethnicity."
   ]
  },
  {
   "cell_type": "code",
   "execution_count": null,
   "metadata": {},
   "outputs": [],
   "source": [
    "draw_barplot_with_hue(clean_data, 'death', 'race_ethnicity')"
   ]
  },
  {
   "cell_type": "markdown",
   "metadata": {},
   "source": [
    "### It is your turn: copy the code from the cell above, and use the `draw_barplot_hue()` function to generate the survival distribution per medical condition. What do you observe?"
   ]
  },
  {
   "cell_type": "code",
   "execution_count": null,
   "metadata": {
    "scrolled": true
   },
   "outputs": [],
   "source": [
    "draw_barplot_with_hue(clean_data, 'death', 'medcond')"
   ]
  },
  {
   "cell_type": "markdown",
   "metadata": {},
   "source": [
    "### What do you observe? what does this mean? Can we draw a conclusion from these plots?\n",
    "These are the most common questions data scientists ask in order to get deep understanding of the dataset.\n",
    "Explaining and interpreting numbers and plots and any causation or correlation relationship is one of the main tasks of a data scientist. "
   ]
  },
  {
   "cell_type": "markdown",
   "metadata": {},
   "source": [
    "Based on the graphs above, we can make the following points:\n",
    "\n",
    "- Patients that are older than 80 had the highest number of deaths\n",
    "- Males had more deaths than female even though the total number of female patients was greater\n",
    "- Patients of the white race had the highest cases of death, but that is because they were the most represented in this dataset\n",
    "- Almost all of the dead patients had an underlying comorbid diseases"
   ]
  },
  {
   "cell_type": "markdown",
   "metadata": {},
   "source": [
    "# Part 4. Modeling\n",
    "\n",
    "In this part, we build a model that can take a patient details ('case_status', 'sex', 'age_group', 'race_ethnicity', 'hospitalized', 'icu', 'medcond') as input and outputs a survival prediction value. \n",
    "\n",
    "We use Machine Learning here to build the model. \n",
    "\n",
    "It consists generally of two main steps: training the model and testing it. \n",
    "\n",
    "In order to experiment with these two steps, make sure you run the code in the cell below."
   ]
  },
  {
   "cell_type": "code",
   "execution_count": null,
   "metadata": {},
   "outputs": [],
   "source": [
    "d = pd.get_dummies(clean_data, columns =['case_status', 'sex', 'age_group', 'race_ethnicity', 'hospitalized', 'icu', 'medcond'])\n",
    "\n",
    "labels = np.array(np.where(d.death.values == 'Yes', 1, 0))\n",
    "features = d.drop(['death'], axis = 1)\n",
    "feature_list = list(features.columns)\n",
    "features = np.array(features)\n",
    "\n",
    "train_features, test_features, train_labels, test_labels = train_test_split(features, labels, test_size = 0.2)\n",
    "\n",
    "Standardisation = preprocessing.StandardScaler() \n",
    "train_features = Standardisation.fit_transform(train_features) \n",
    "\n",
    "logisticRegr = LogisticRegression()\n",
    "logisticRegr.fit(train_features, train_labels) \n",
    "\n",
    "pred_lr = logisticRegr.predict(test_features)"
   ]
  },
  {
   "cell_type": "code",
   "execution_count": null,
   "metadata": {},
   "outputs": [],
   "source": [
    "print(\"predicted values for the 10 first cases:\", pred_lr[:10])"
   ]
  },
  {
   "cell_type": "markdown",
   "metadata": {},
   "source": [
    "## Conclusion"
   ]
  },
  {
   "cell_type": "markdown",
   "metadata": {},
   "source": [
    "We hope this work provided you with an overview on what data science is and how useful and important it is in helping scientist battling coronavirus, and other critical diseases.\n",
    "\n",
    "We also hope that you enjoyed this experience and that it inspired you in choosing Information Systems and Data Science as a major to study at CMUQ.\n"
   ]
  },
  {
   "cell_type": "markdown",
   "metadata": {},
   "source": [
    "## Acknowledgment\n",
    "\n",
    "This project is built on the implemented by Yara Al-Abdulghani and Amal Al-Korbi as part of their final project in the Practical Data Science course (67-364) during Fall 2020. Yara and Amal are senior IS students."
   ]
  }
 ],
 "metadata": {
  "kernelspec": {
   "display_name": "Python 3",
   "language": "python",
   "name": "python3"
  },
  "language_info": {
   "codemirror_mode": {
    "name": "ipython",
    "version": 3
   },
   "file_extension": ".py",
   "mimetype": "text/x-python",
   "name": "python",
   "nbconvert_exporter": "python",
   "pygments_lexer": "ipython3",
   "version": "3.7.6"
  }
 },
 "nbformat": 4,
 "nbformat_minor": 4
}

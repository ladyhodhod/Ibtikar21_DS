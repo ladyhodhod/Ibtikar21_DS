{
  "cells": [
    {
      "cell_type": "markdown",
      "metadata": {
        "id": "zHMNlnqu2So3"
      },
      "source": [
        "# Predicting Covid-19 Survival Based on Patient Demographics "
      ]
    },
    {
      "cell_type": "markdown",
      "metadata": {
        "id": "bi-0nHe82So5"
      },
      "source": [
        "# Introduction\n",
        "\n",
        "In this workshop, we will analyze and explore a very insightful **COVID-19 dataset**.\n",
        "\n",
        "The goal of this data science mini-project is to predict the survival of the patients' based on their demographics and health status. \n",
        "\n",
        "Covid-19 being a fairly recent virus, any insights would be helpful to understand potential disease risk and causes.  Data science tools and algorithms could be used in assessing the safety and quality of care provided based on the patient's risk assessment. \n",
        "\n",
        "Therefore, we will try to understand if the relationship between COVID-19 survival/death and some variables describing the patient's demographics such as gender, age, ethnicity, etc. Also we will explore the current trends of the death variable. **Yet, our main question is the following: Can we predict a COVID-19 patients' mortality?** "
      ]
    },
    {
      "cell_type": "markdown",
      "metadata": {
        "id": "GjP8BCPh2So5"
      },
      "source": [
        "## Content\n",
        "\n",
        "In this workshop we will explore the following parts:\n",
        "\n",
        "1. [Data Collection](#Data-Collection)\n",
        "2. [Data Cleaning](#Data-Cleaning)\n",
        "3. [Exploratory Data Analysis](#Exploratory-Data-Analysis)\n",
        "4. [Modeling](#Modeling)"
      ]
    },
    {
      "cell_type": "markdown",
      "metadata": {
        "id": "o9XViYkr2So6"
      },
      "source": [
        "## Importing Libraries"
      ]
    },
    {
      "cell_type": "code",
      "execution_count": 1,
      "metadata": {
        "id": "y4oHiarI2So6"
      },
      "outputs": [],
      "source": [
        "# REQUIRED LIBRARIES\n",
        "# DO NOT TOUCH THE CODE IN THIS CELL\n",
        "import numpy as np\n",
        "import pandas as pd\n",
        "import zipfile\n",
        "import matplotlib.pyplot as plt\n",
        "import seaborn as sns\n",
        "%matplotlib inline\n",
        "from sklearn.linear_model import LogisticRegression\n",
        "from sklearn.metrics import classification_report, confusion_matrix\n",
        "from sklearn.model_selection import train_test_split\n",
        "from sklearn import preprocessing \n",
        "import missingno as msno\n",
        "import warnings\n",
        "warnings.filterwarnings(\"ignore\")"
      ]
    },
    {
      "cell_type": "code",
      "execution_count": 2,
      "metadata": {
        "id": "aJW_LuOQ2So7"
      },
      "outputs": [],
      "source": [
        "# HELPER FUNCTIONS\n",
        "# DO NOT TOUCH THE CODE IN THIS CELL\n",
        "def draw_pie(df, variable, title):\n",
        "    plt.figure(figsize=(30,20))\n",
        "    plt.subplots_adjust(left=0.125, bottom=0.1, right=0.9, top=0.9,\n",
        "                      wspace=0.5, hspace=0.2)\n",
        "    plt.subplot(141)\n",
        "    plt.title(title,fontsize = 20)\n",
        "    df[variable].value_counts().plot.pie(autopct=\"%1.1f%%\")\n",
        "    \n",
        "def draw_barplot(data, variable, orient='v'):\n",
        "    if orient=='v':\n",
        "        a=sns.countplot(data[variable])\n",
        "    else:\n",
        "        a=sns.countplot(y=data[variable], data=data, orient=orient)\n",
        "    a.set_xlabel(variable,fontsize=20)\n",
        "    a.set_ylabel(\"Number of cases\",fontsize=20)\n",
        "    a.tick_params(labelsize=15)\n",
        "\n",
        "    \n",
        "def draw_barplot_with_hue(data, variable, h):\n",
        "    b = sns.countplot(x = variable,  data = data, hue = h, palette = 'Set1')\n",
        "    b.set_xlabel(variable,fontsize=20)\n",
        "    b.set_ylabel(\"Number of cases\",fontsize=20)\n",
        "    b.tick_params(labelsize=15)"
      ]
    },
    {
      "cell_type": "markdown",
      "metadata": {
        "id": "7W7NTT252So8"
      },
      "source": [
        "# Part1.  Data Collection \n",
        "\n",
        "In this workshop, we will skip the data collection step from the data science process, and use a readily available dataset: The <a href=\"https://data.cdc.gov/Case-Surveillance/COVID-19-Case-Surveillance-Public-Use-Data/vbim-akqf\"> \n",
        "dataset </a>. This dataset is provided from <a href=\"https://www.cdc.gov\">Centers for Disease Control and Prevention</a>. This organization runs a COVID-19 case surveillance system database that is based in the US. \n",
        "\n",
        "CDC have worked on developing technology to help ensure that disease reporting systems are integrated in US states. \n",
        "\n",
        "This reporting system initiated this rich dataset that includes individual-level data reported of confirmed and probable cases of COVID-19. \n",
        "\n",
        "The dataset consist of 8 columns labelled as:\n",
        "\n",
        "- **case_status**: Laboratory-confirmed case; Probable case\n",
        "- **sex**: Male; Female; Other\n",
        "- **age_group**: 0 - 9 Years; 10 - 19 Years; 20 - 39 Years; 40 - 49 Years; 50 - 59 Years; 60 - 69 Years; 70 - 79     Years; 80 + Years\n",
        "- **Race and ethnicity**: Hispanic/Latino; American Indian / Alaska Native, Non-Hispanic; Asian, Non-Hispanic; Black, Non-Hispanic; Native Hawaiian / Other Pacific Islander, Non-Hispanic; White, Non-Hispanic; Multiple/Other, Non-Hispanic\n",
        "- **medcond**: Presence of underlying comorbidity or disease\n",
        "- **hospitalized**: Hospitalization status (Y/N)\n",
        "- **icu**: Intensive Care Unit admission status (Y/N)\n",
        "- **death**: Death status (Y/N)"
      ]
    },
    {
      "cell_type": "markdown",
      "metadata": {
        "id": "CRMCfF4Y2So9"
      },
      "source": [
        "### Run the cell below to load and read the dataset"
      ]
    },
    {
      "cell_type": "code",
      "execution_count": 9,
      "metadata": {
        "id": "ihjcpda62So9",
        "scrolled": true
      },
      "outputs": [],
      "source": [
        "data = pd.read_csv(\"https://github.com/ladyhodhod/Ibtikar21_DS/blob/main/COVID-19_Case_Surveillance_Public_Use_Data_mini.csv.zip?raw=true\",compression='zip')"
      ]
    },
    {
      "cell_type": "markdown",
      "metadata": {
        "id": "H9FwWejv2So9"
      },
      "source": [
        "### In order to display the content of this dataset, we can use the code in the cell below. When you run it, you will see random sample of recorded cases."
      ]
    },
    {
      "cell_type": "code",
      "execution_count": 13,
      "metadata": {
        "colab": {
          "base_uri": "https://localhost:8080/",
          "height": 215
        },
        "id": "4JmNvvhw2So-",
        "outputId": "f32cfb81-f0d0-4ef5-a765-85e3fa7afb4d",
        "scrolled": true
      },
      "outputs": [
        {
          "data": {
            "text/html": [
              "\n",
              "  <div id=\"df-56c6d501-8926-4b01-b85f-a3595f3ceff8\">\n",
              "    <div class=\"colab-df-container\">\n",
              "      <div>\n",
              "<style scoped>\n",
              "    .dataframe tbody tr th:only-of-type {\n",
              "        vertical-align: middle;\n",
              "    }\n",
              "\n",
              "    .dataframe tbody tr th {\n",
              "        vertical-align: top;\n",
              "    }\n",
              "\n",
              "    .dataframe thead th {\n",
              "        text-align: right;\n",
              "    }\n",
              "</style>\n",
              "<table border=\"1\" class=\"dataframe\">\n",
              "  <thead>\n",
              "    <tr style=\"text-align: right;\">\n",
              "      <th></th>\n",
              "      <th>case_status</th>\n",
              "      <th>sex</th>\n",
              "      <th>age_group</th>\n",
              "      <th>race_ethnicity</th>\n",
              "      <th>hospitalized</th>\n",
              "      <th>icu</th>\n",
              "      <th>death</th>\n",
              "      <th>medcond</th>\n",
              "    </tr>\n",
              "  </thead>\n",
              "  <tbody>\n",
              "    <tr>\n",
              "      <th>325818</th>\n",
              "      <td>Laboratory-confirmed case</td>\n",
              "      <td>Male</td>\n",
              "      <td>30 - 39 Years</td>\n",
              "      <td>White, Non-Hispanic</td>\n",
              "      <td>No</td>\n",
              "      <td>No</td>\n",
              "      <td>No</td>\n",
              "      <td>No</td>\n",
              "    </tr>\n",
              "    <tr>\n",
              "      <th>730769</th>\n",
              "      <td>Laboratory-confirmed case</td>\n",
              "      <td>Female</td>\n",
              "      <td>20 - 29 Years</td>\n",
              "      <td>Black, Non-Hispanic</td>\n",
              "      <td>No</td>\n",
              "      <td>Missing</td>\n",
              "      <td>Missing</td>\n",
              "      <td>Missing</td>\n",
              "    </tr>\n",
              "    <tr>\n",
              "      <th>1711982</th>\n",
              "      <td>Laboratory-confirmed case</td>\n",
              "      <td>Male</td>\n",
              "      <td>30 - 39 Years</td>\n",
              "      <td>Hispanic/Latino</td>\n",
              "      <td>Missing</td>\n",
              "      <td>Missing</td>\n",
              "      <td>Missing</td>\n",
              "      <td>Unknown</td>\n",
              "    </tr>\n",
              "    <tr>\n",
              "      <th>1629028</th>\n",
              "      <td>Laboratory-confirmed case</td>\n",
              "      <td>Female</td>\n",
              "      <td>20 - 29 Years</td>\n",
              "      <td>White, Non-Hispanic</td>\n",
              "      <td>No</td>\n",
              "      <td>Missing</td>\n",
              "      <td>Missing</td>\n",
              "      <td>Missing</td>\n",
              "    </tr>\n",
              "    <tr>\n",
              "      <th>49862</th>\n",
              "      <td>Laboratory-confirmed case</td>\n",
              "      <td>Male</td>\n",
              "      <td>10 - 19 Years</td>\n",
              "      <td>Hispanic/Latino</td>\n",
              "      <td>Missing</td>\n",
              "      <td>Missing</td>\n",
              "      <td>No</td>\n",
              "      <td>No</td>\n",
              "    </tr>\n",
              "  </tbody>\n",
              "</table>\n",
              "</div>\n",
              "      <button class=\"colab-df-convert\" onclick=\"convertToInteractive('df-56c6d501-8926-4b01-b85f-a3595f3ceff8')\"\n",
              "              title=\"Convert this dataframe to an interactive table.\"\n",
              "              style=\"display:none;\">\n",
              "        \n",
              "  <svg xmlns=\"http://www.w3.org/2000/svg\" height=\"24px\"viewBox=\"0 0 24 24\"\n",
              "       width=\"24px\">\n",
              "    <path d=\"M0 0h24v24H0V0z\" fill=\"none\"/>\n",
              "    <path d=\"M18.56 5.44l.94 2.06.94-2.06 2.06-.94-2.06-.94-.94-2.06-.94 2.06-2.06.94zm-11 1L8.5 8.5l.94-2.06 2.06-.94-2.06-.94L8.5 2.5l-.94 2.06-2.06.94zm10 10l.94 2.06.94-2.06 2.06-.94-2.06-.94-.94-2.06-.94 2.06-2.06.94z\"/><path d=\"M17.41 7.96l-1.37-1.37c-.4-.4-.92-.59-1.43-.59-.52 0-1.04.2-1.43.59L10.3 9.45l-7.72 7.72c-.78.78-.78 2.05 0 2.83L4 21.41c.39.39.9.59 1.41.59.51 0 1.02-.2 1.41-.59l7.78-7.78 2.81-2.81c.8-.78.8-2.07 0-2.86zM5.41 20L4 18.59l7.72-7.72 1.47 1.35L5.41 20z\"/>\n",
              "  </svg>\n",
              "      </button>\n",
              "      \n",
              "  <style>\n",
              "    .colab-df-container {\n",
              "      display:flex;\n",
              "      flex-wrap:wrap;\n",
              "      gap: 12px;\n",
              "    }\n",
              "\n",
              "    .colab-df-convert {\n",
              "      background-color: #E8F0FE;\n",
              "      border: none;\n",
              "      border-radius: 50%;\n",
              "      cursor: pointer;\n",
              "      display: none;\n",
              "      fill: #1967D2;\n",
              "      height: 32px;\n",
              "      padding: 0 0 0 0;\n",
              "      width: 32px;\n",
              "    }\n",
              "\n",
              "    .colab-df-convert:hover {\n",
              "      background-color: #E2EBFA;\n",
              "      box-shadow: 0px 1px 2px rgba(60, 64, 67, 0.3), 0px 1px 3px 1px rgba(60, 64, 67, 0.15);\n",
              "      fill: #174EA6;\n",
              "    }\n",
              "\n",
              "    [theme=dark] .colab-df-convert {\n",
              "      background-color: #3B4455;\n",
              "      fill: #D2E3FC;\n",
              "    }\n",
              "\n",
              "    [theme=dark] .colab-df-convert:hover {\n",
              "      background-color: #434B5C;\n",
              "      box-shadow: 0px 1px 3px 1px rgba(0, 0, 0, 0.15);\n",
              "      filter: drop-shadow(0px 1px 2px rgba(0, 0, 0, 0.3));\n",
              "      fill: #FFFFFF;\n",
              "    }\n",
              "  </style>\n",
              "\n",
              "      <script>\n",
              "        const buttonEl =\n",
              "          document.querySelector('#df-56c6d501-8926-4b01-b85f-a3595f3ceff8 button.colab-df-convert');\n",
              "        buttonEl.style.display =\n",
              "          google.colab.kernel.accessAllowed ? 'block' : 'none';\n",
              "\n",
              "        async function convertToInteractive(key) {\n",
              "          const element = document.querySelector('#df-56c6d501-8926-4b01-b85f-a3595f3ceff8');\n",
              "          const dataTable =\n",
              "            await google.colab.kernel.invokeFunction('convertToInteractive',\n",
              "                                                     [key], {});\n",
              "          if (!dataTable) return;\n",
              "\n",
              "          const docLinkHtml = 'Like what you see? Visit the ' +\n",
              "            '<a target=\"_blank\" href=https://colab.research.google.com/notebooks/data_table.ipynb>data table notebook</a>'\n",
              "            + ' to learn more about interactive tables.';\n",
              "          element.innerHTML = '';\n",
              "          dataTable['output_type'] = 'display_data';\n",
              "          await google.colab.output.renderOutput(dataTable, element);\n",
              "          const docLink = document.createElement('div');\n",
              "          docLink.innerHTML = docLinkHtml;\n",
              "          element.appendChild(docLink);\n",
              "        }\n",
              "      </script>\n",
              "    </div>\n",
              "  </div>\n",
              "  "
            ],
            "text/plain": [
              "                       case_status     sex  ...    death  medcond\n",
              "325818   Laboratory-confirmed case    Male  ...       No       No\n",
              "730769   Laboratory-confirmed case  Female  ...  Missing  Missing\n",
              "1711982  Laboratory-confirmed case    Male  ...  Missing  Unknown\n",
              "1629028  Laboratory-confirmed case  Female  ...  Missing  Missing\n",
              "49862    Laboratory-confirmed case    Male  ...       No       No\n",
              "\n",
              "[5 rows x 8 columns]"
            ]
          },
          "execution_count": 13,
          "metadata": {},
          "output_type": "execute_result"
        }
      ],
      "source": [
        "data.sample(5)"
      ]
    },
    {
      "cell_type": "markdown",
      "metadata": {
        "id": "dnQUg1PU2So-"
      },
      "source": [
        "### **STOP!**\n",
        "### Take a few minutes to read the content of the table above. Getting to know the data, is a crucial step in data science."
      ]
    },
    {
      "cell_type": "code",
      "execution_count": 14,
      "metadata": {
        "colab": {
          "base_uri": "https://localhost:8080/"
        },
        "id": "y_dSHdem2So_",
        "outputId": "c70ef139-71c2-43ce-cef3-77640aa74044",
        "scrolled": true
      },
      "outputs": [
        {
          "name": "stdout",
          "output_type": "stream",
          "text": [
            "Our dataset contains: 1,912,328 examples of COVID-19 recorded patients\n"
          ]
        }
      ],
      "source": [
        "print (\"Our dataset contains:\", \"{:,}\".format(data.shape[0]), \"examples of COVID-19 recorded patients\")"
      ]
    },
    {
      "cell_type": "markdown",
      "metadata": {
        "id": "skrwGSeo2So_"
      },
      "source": [
        "### In order to get a detailed description of each variable (field), run the cell below. "
      ]
    },
    {
      "cell_type": "code",
      "execution_count": 17,
      "metadata": {
        "colab": {
          "base_uri": "https://localhost:8080/",
          "height": 300
        },
        "id": "2jVD4BpR2SpA",
        "outputId": "5c687800-eda4-4cbc-eb38-dea9a1583e3e"
      },
      "outputs": [
        {
          "data": {
            "text/html": [
              "\n",
              "  <div id=\"df-517f7f60-78a4-40cd-9b3d-6566289d2360\">\n",
              "    <div class=\"colab-df-container\">\n",
              "      <div>\n",
              "<style scoped>\n",
              "    .dataframe tbody tr th:only-of-type {\n",
              "        vertical-align: middle;\n",
              "    }\n",
              "\n",
              "    .dataframe tbody tr th {\n",
              "        vertical-align: top;\n",
              "    }\n",
              "\n",
              "    .dataframe thead th {\n",
              "        text-align: right;\n",
              "    }\n",
              "</style>\n",
              "<table border=\"1\" class=\"dataframe\">\n",
              "  <thead>\n",
              "    <tr style=\"text-align: right;\">\n",
              "      <th></th>\n",
              "      <th>count</th>\n",
              "      <th>unique</th>\n",
              "      <th>top</th>\n",
              "      <th>freq</th>\n",
              "    </tr>\n",
              "  </thead>\n",
              "  <tbody>\n",
              "    <tr>\n",
              "      <th>case_status</th>\n",
              "      <td>1912328</td>\n",
              "      <td>2</td>\n",
              "      <td>Laboratory-confirmed case</td>\n",
              "      <td>1852767</td>\n",
              "    </tr>\n",
              "    <tr>\n",
              "      <th>sex</th>\n",
              "      <td>1912328</td>\n",
              "      <td>5</td>\n",
              "      <td>Female</td>\n",
              "      <td>1012053</td>\n",
              "    </tr>\n",
              "    <tr>\n",
              "      <th>age_group</th>\n",
              "      <td>1912328</td>\n",
              "      <td>10</td>\n",
              "      <td>20 - 29 Years</td>\n",
              "      <td>378045</td>\n",
              "    </tr>\n",
              "    <tr>\n",
              "      <th>race_ethnicity</th>\n",
              "      <td>1912328</td>\n",
              "      <td>9</td>\n",
              "      <td>White, Non-Hispanic</td>\n",
              "      <td>879058</td>\n",
              "    </tr>\n",
              "    <tr>\n",
              "      <th>hospitalized</th>\n",
              "      <td>1912328</td>\n",
              "      <td>4</td>\n",
              "      <td>No</td>\n",
              "      <td>1369292</td>\n",
              "    </tr>\n",
              "    <tr>\n",
              "      <th>icu</th>\n",
              "      <td>1912328</td>\n",
              "      <td>4</td>\n",
              "      <td>Missing</td>\n",
              "      <td>853188</td>\n",
              "    </tr>\n",
              "    <tr>\n",
              "      <th>death</th>\n",
              "      <td>1912328</td>\n",
              "      <td>4</td>\n",
              "      <td>No</td>\n",
              "      <td>1187408</td>\n",
              "    </tr>\n",
              "    <tr>\n",
              "      <th>medcond</th>\n",
              "      <td>1912328</td>\n",
              "      <td>4</td>\n",
              "      <td>No</td>\n",
              "      <td>633049</td>\n",
              "    </tr>\n",
              "  </tbody>\n",
              "</table>\n",
              "</div>\n",
              "      <button class=\"colab-df-convert\" onclick=\"convertToInteractive('df-517f7f60-78a4-40cd-9b3d-6566289d2360')\"\n",
              "              title=\"Convert this dataframe to an interactive table.\"\n",
              "              style=\"display:none;\">\n",
              "        \n",
              "  <svg xmlns=\"http://www.w3.org/2000/svg\" height=\"24px\"viewBox=\"0 0 24 24\"\n",
              "       width=\"24px\">\n",
              "    <path d=\"M0 0h24v24H0V0z\" fill=\"none\"/>\n",
              "    <path d=\"M18.56 5.44l.94 2.06.94-2.06 2.06-.94-2.06-.94-.94-2.06-.94 2.06-2.06.94zm-11 1L8.5 8.5l.94-2.06 2.06-.94-2.06-.94L8.5 2.5l-.94 2.06-2.06.94zm10 10l.94 2.06.94-2.06 2.06-.94-2.06-.94-.94-2.06-.94 2.06-2.06.94z\"/><path d=\"M17.41 7.96l-1.37-1.37c-.4-.4-.92-.59-1.43-.59-.52 0-1.04.2-1.43.59L10.3 9.45l-7.72 7.72c-.78.78-.78 2.05 0 2.83L4 21.41c.39.39.9.59 1.41.59.51 0 1.02-.2 1.41-.59l7.78-7.78 2.81-2.81c.8-.78.8-2.07 0-2.86zM5.41 20L4 18.59l7.72-7.72 1.47 1.35L5.41 20z\"/>\n",
              "  </svg>\n",
              "      </button>\n",
              "      \n",
              "  <style>\n",
              "    .colab-df-container {\n",
              "      display:flex;\n",
              "      flex-wrap:wrap;\n",
              "      gap: 12px;\n",
              "    }\n",
              "\n",
              "    .colab-df-convert {\n",
              "      background-color: #E8F0FE;\n",
              "      border: none;\n",
              "      border-radius: 50%;\n",
              "      cursor: pointer;\n",
              "      display: none;\n",
              "      fill: #1967D2;\n",
              "      height: 32px;\n",
              "      padding: 0 0 0 0;\n",
              "      width: 32px;\n",
              "    }\n",
              "\n",
              "    .colab-df-convert:hover {\n",
              "      background-color: #E2EBFA;\n",
              "      box-shadow: 0px 1px 2px rgba(60, 64, 67, 0.3), 0px 1px 3px 1px rgba(60, 64, 67, 0.15);\n",
              "      fill: #174EA6;\n",
              "    }\n",
              "\n",
              "    [theme=dark] .colab-df-convert {\n",
              "      background-color: #3B4455;\n",
              "      fill: #D2E3FC;\n",
              "    }\n",
              "\n",
              "    [theme=dark] .colab-df-convert:hover {\n",
              "      background-color: #434B5C;\n",
              "      box-shadow: 0px 1px 3px 1px rgba(0, 0, 0, 0.15);\n",
              "      filter: drop-shadow(0px 1px 2px rgba(0, 0, 0, 0.3));\n",
              "      fill: #FFFFFF;\n",
              "    }\n",
              "  </style>\n",
              "\n",
              "      <script>\n",
              "        const buttonEl =\n",
              "          document.querySelector('#df-517f7f60-78a4-40cd-9b3d-6566289d2360 button.colab-df-convert');\n",
              "        buttonEl.style.display =\n",
              "          google.colab.kernel.accessAllowed ? 'block' : 'none';\n",
              "\n",
              "        async function convertToInteractive(key) {\n",
              "          const element = document.querySelector('#df-517f7f60-78a4-40cd-9b3d-6566289d2360');\n",
              "          const dataTable =\n",
              "            await google.colab.kernel.invokeFunction('convertToInteractive',\n",
              "                                                     [key], {});\n",
              "          if (!dataTable) return;\n",
              "\n",
              "          const docLinkHtml = 'Like what you see? Visit the ' +\n",
              "            '<a target=\"_blank\" href=https://colab.research.google.com/notebooks/data_table.ipynb>data table notebook</a>'\n",
              "            + ' to learn more about interactive tables.';\n",
              "          element.innerHTML = '';\n",
              "          dataTable['output_type'] = 'display_data';\n",
              "          await google.colab.output.renderOutput(dataTable, element);\n",
              "          const docLink = document.createElement('div');\n",
              "          docLink.innerHTML = docLinkHtml;\n",
              "          element.appendChild(docLink);\n",
              "        }\n",
              "      </script>\n",
              "    </div>\n",
              "  </div>\n",
              "  "
            ],
            "text/plain": [
              "                  count unique                        top     freq\n",
              "case_status     1912328      2  Laboratory-confirmed case  1852767\n",
              "sex             1912328      5                     Female  1012053\n",
              "age_group       1912328     10              20 - 29 Years   378045\n",
              "race_ethnicity  1912328      9        White, Non-Hispanic   879058\n",
              "hospitalized    1912328      4                         No  1369292\n",
              "icu             1912328      4                    Missing   853188\n",
              "death           1912328      4                         No  1187408\n",
              "medcond         1912328      4                         No   633049"
            ]
          },
          "execution_count": 17,
          "metadata": {},
          "output_type": "execute_result"
        }
      ],
      "source": [
        "data.describe().T"
      ]
    },
    {
      "cell_type": "markdown",
      "metadata": {
        "id": "MToxkH_b41WC"
      },
      "source": [
        "### **STOP!**\n",
        "### What do you observe?\n"
      ]
    },
    {
      "cell_type": "markdown",
      "metadata": {
        "id": "jGsT4IGb5A4i"
      },
      "source": [
        "## Double click on this cell to write your observations."
      ]
    },
    {
      "cell_type": "markdown",
      "metadata": {
        "id": "3MqUBNNV2SpA"
      },
      "source": [
        "# Part 2. Data Cleaning\n",
        "\n",
        "In its original full version, this dataset had 5 million entries of data with lots of missing values. Given the huge dataset, we had the flexibility to eliminate all rows with missing data. We also dropped some other details like dates to make the case simpler for this workshop."
      ]
    },
    {
      "cell_type": "markdown",
      "metadata": {
        "id": "7IbkGvW82SpA"
      },
      "source": [
        "### **STOP!**\n",
        "### Run the cell below to check if there is any missing values for each variable in the dataset!  \n",
        "### What do you observe? Discuss your observation with your teammates."
      ]
    },
    {
      "cell_type": "code",
      "execution_count": 18,
      "metadata": {
        "colab": {
          "base_uri": "https://localhost:8080/",
          "height": 702
        },
        "id": "PjTPwu1e2SpA",
        "outputId": "dd2cc0b4-d396-487d-c24a-e59d90a2332d"
      },
      "outputs": [
        {
          "data": {
            "text/plain": [
              "<matplotlib.axes._subplots.AxesSubplot at 0x7f6cd8f23310>"
            ]
          },
          "execution_count": 18,
          "metadata": {},
          "output_type": "execute_result"
        },
        {
          "data": {
            "image/png": "[encoded data removed]",
            "text/plain": [
              "<Figure size 1800x720 with 2 Axes>"
            ]
          },
          "metadata": {
            "needs_background": "light"
          },
          "output_type": "display_data"
        }
      ],
      "source": [
        "msno.matrix(data)"
      ]
    },
    {
      "cell_type": "markdown",
      "metadata": {
        "id": "94jAQBAN2SpA"
      },
      "source": [
        "This visual summary shows that there is not much of missing values for each of the variables we are studying.\n",
        "Let's explore this further!\n",
        "\n",
        "### Run the cell below to count missing values in our dataset."
      ]
    },
    {
      "cell_type": "code",
      "execution_count": 19,
      "metadata": {
        "colab": {
          "base_uri": "https://localhost:8080/"
        },
        "id": "zq7hP9JZ2SpB",
        "outputId": "1ad19860-26c0-45a2-f88a-dc251cc12c21",
        "scrolled": false
      },
      "outputs": [
        {
          "data": {
            "text/plain": [
              "case_status       0\n",
              "sex               0\n",
              "age_group         0\n",
              "race_ethnicity    0\n",
              "hospitalized      0\n",
              "icu               0\n",
              "death             0\n",
              "medcond           0\n",
              "dtype: int64"
            ]
          },
          "execution_count": 19,
          "metadata": {},
          "output_type": "execute_result"
        }
      ],
      "source": [
        "data.isnull().sum()"
      ]
    },
    {
      "cell_type": "markdown",
      "metadata": {
        "id": "GhBjHZQh2SpB"
      },
      "source": [
        "The numbers above show clearly that there are no null missing values in our dataset. This means that for every patient recorded, all the fields are indicated. Let's confirm this by looking at each field separately!"
      ]
    },
    {
      "cell_type": "markdown",
      "metadata": {
        "id": "iMXeWjjD2SpB"
      },
      "source": [
        "### We start with the variable `sex`. In the following cell, we will count the number of unique values in the column `sex`. Basically we would like to check if there are cases for which the gender  was missing, and a value different than Null was assigned instead."
      ]
    },
    {
      "cell_type": "code",
      "execution_count": 20,
      "metadata": {
        "colab": {
          "base_uri": "https://localhost:8080/",
          "height": 206
        },
        "id": "jWo7uj4Y2SpB",
        "outputId": "a58f1580-0abb-4151-92de-b98b54eec8cd",
        "scrolled": false
      },
      "outputs": [
        {
          "data": {
            "text/html": [
              "\n",
              "  <div id=\"df-f3aabb9d-8b7b-44e2-ab0b-f84cdd6dded7\">\n",
              "    <div class=\"colab-df-container\">\n",
              "      <div>\n",
              "<style scoped>\n",
              "    .dataframe tbody tr th:only-of-type {\n",
              "        vertical-align: middle;\n",
              "    }\n",
              "\n",
              "    .dataframe tbody tr th {\n",
              "        vertical-align: top;\n",
              "    }\n",
              "\n",
              "    .dataframe thead th {\n",
              "        text-align: right;\n",
              "    }\n",
              "</style>\n",
              "<table border=\"1\" class=\"dataframe\">\n",
              "  <thead>\n",
              "    <tr style=\"text-align: right;\">\n",
              "      <th></th>\n",
              "      <th>sex</th>\n",
              "    </tr>\n",
              "  </thead>\n",
              "  <tbody>\n",
              "    <tr>\n",
              "      <th>Female</th>\n",
              "      <td>1012053</td>\n",
              "    </tr>\n",
              "    <tr>\n",
              "      <th>Male</th>\n",
              "      <td>886857</td>\n",
              "    </tr>\n",
              "    <tr>\n",
              "      <th>Unknown</th>\n",
              "      <td>10659</td>\n",
              "    </tr>\n",
              "    <tr>\n",
              "      <th>Missing</th>\n",
              "      <td>2683</td>\n",
              "    </tr>\n",
              "    <tr>\n",
              "      <th>Other</th>\n",
              "      <td>76</td>\n",
              "    </tr>\n",
              "  </tbody>\n",
              "</table>\n",
              "</div>\n",
              "      <button class=\"colab-df-convert\" onclick=\"convertToInteractive('df-f3aabb9d-8b7b-44e2-ab0b-f84cdd6dded7')\"\n",
              "              title=\"Convert this dataframe to an interactive table.\"\n",
              "              style=\"display:none;\">\n",
              "        \n",
              "  <svg xmlns=\"http://www.w3.org/2000/svg\" height=\"24px\"viewBox=\"0 0 24 24\"\n",
              "       width=\"24px\">\n",
              "    <path d=\"M0 0h24v24H0V0z\" fill=\"none\"/>\n",
              "    <path d=\"M18.56 5.44l.94 2.06.94-2.06 2.06-.94-2.06-.94-.94-2.06-.94 2.06-2.06.94zm-11 1L8.5 8.5l.94-2.06 2.06-.94-2.06-.94L8.5 2.5l-.94 2.06-2.06.94zm10 10l.94 2.06.94-2.06 2.06-.94-2.06-.94-.94-2.06-.94 2.06-2.06.94z\"/><path d=\"M17.41 7.96l-1.37-1.37c-.4-.4-.92-.59-1.43-.59-.52 0-1.04.2-1.43.59L10.3 9.45l-7.72 7.72c-.78.78-.78 2.05 0 2.83L4 21.41c.39.39.9.59 1.41.59.51 0 1.02-.2 1.41-.59l7.78-7.78 2.81-2.81c.8-.78.8-2.07 0-2.86zM5.41 20L4 18.59l7.72-7.72 1.47 1.35L5.41 20z\"/>\n",
              "  </svg>\n",
              "      </button>\n",
              "      \n",
              "  <style>\n",
              "    .colab-df-container {\n",
              "      display:flex;\n",
              "      flex-wrap:wrap;\n",
              "      gap: 12px;\n",
              "    }\n",
              "\n",
              "    .colab-df-convert {\n",
              "      background-color: #E8F0FE;\n",
              "      border: none;\n",
              "      border-radius: 50%;\n",
              "      cursor: pointer;\n",
              "      display: none;\n",
              "      fill: #1967D2;\n",
              "      height: 32px;\n",
              "      padding: 0 0 0 0;\n",
              "      width: 32px;\n",
              "    }\n",
              "\n",
              "    .colab-df-convert:hover {\n",
              "      background-color: #E2EBFA;\n",
              "      box-shadow: 0px 1px 2px rgba(60, 64, 67, 0.3), 0px 1px 3px 1px rgba(60, 64, 67, 0.15);\n",
              "      fill: #174EA6;\n",
              "    }\n",
              "\n",
              "    [theme=dark] .colab-df-convert {\n",
              "      background-color: #3B4455;\n",
              "      fill: #D2E3FC;\n",
              "    }\n",
              "\n",
              "    [theme=dark] .colab-df-convert:hover {\n",
              "      background-color: #434B5C;\n",
              "      box-shadow: 0px 1px 3px 1px rgba(0, 0, 0, 0.15);\n",
              "      filter: drop-shadow(0px 1px 2px rgba(0, 0, 0, 0.3));\n",
              "      fill: #FFFFFF;\n",
              "    }\n",
              "  </style>\n",
              "\n",
              "      <script>\n",
              "        const buttonEl =\n",
              "          document.querySelector('#df-f3aabb9d-8b7b-44e2-ab0b-f84cdd6dded7 button.colab-df-convert');\n",
              "        buttonEl.style.display =\n",
              "          google.colab.kernel.accessAllowed ? 'block' : 'none';\n",
              "\n",
              "        async function convertToInteractive(key) {\n",
              "          const element = document.querySelector('#df-f3aabb9d-8b7b-44e2-ab0b-f84cdd6dded7');\n",
              "          const dataTable =\n",
              "            await google.colab.kernel.invokeFunction('convertToInteractive',\n",
              "                                                     [key], {});\n",
              "          if (!dataTable) return;\n",
              "\n",
              "          const docLinkHtml = 'Like what you see? Visit the ' +\n",
              "            '<a target=\"_blank\" href=https://colab.research.google.com/notebooks/data_table.ipynb>data table notebook</a>'\n",
              "            + ' to learn more about interactive tables.';\n",
              "          element.innerHTML = '';\n",
              "          dataTable['output_type'] = 'display_data';\n",
              "          await google.colab.output.renderOutput(dataTable, element);\n",
              "          const docLink = document.createElement('div');\n",
              "          docLink.innerHTML = docLinkHtml;\n",
              "          element.appendChild(docLink);\n",
              "        }\n",
              "      </script>\n",
              "    </div>\n",
              "  </div>\n",
              "  "
            ],
            "text/plain": [
              "             sex\n",
              "Female   1012053\n",
              "Male      886857\n",
              "Unknown    10659\n",
              "Missing     2683\n",
              "Other         76"
            ]
          },
          "execution_count": 20,
          "metadata": {},
          "output_type": "execute_result"
        }
      ],
      "source": [
        "pd.DataFrame(data.sex.value_counts())"
      ]
    },
    {
      "cell_type": "markdown",
      "metadata": {
        "id": "BVfOnSNt2SpC"
      },
      "source": [
        "### **STOP!**\n",
        "### Explore the missing values for the variable `race_ethnicity`."
      ]
    },
    {
      "cell_type": "code",
      "execution_count": null,
      "metadata": {
        "id": "h4cHC9i92SpC"
      },
      "outputs": [],
      "source": [
        "### Write your code here!\n"
      ]
    },
    {
      "cell_type": "markdown",
      "metadata": {
        "id": "H8vhpBrw2SpC"
      },
      "source": [
        "### Let's visualize each of them using a bar plot by running the cell below!"
      ]
    },
    {
      "cell_type": "code",
      "execution_count": null,
      "metadata": {
        "id": "QCy1DV-h2SpC"
      },
      "outputs": [],
      "source": [
        "search_values= ['Missing', 'Unknown']\n",
        "draw_barplot(data[data.sex.str.contains('|'.join(search_values ))], 'sex')"
      ]
    },
    {
      "cell_type": "markdown",
      "metadata": {
        "id": "WyZ2c2da2SpC"
      },
      "source": [
        "### Now, let's check the race_ethnicity variable. \n",
        "### **STOP!**\n",
        "### Run the cell below to generate the distribution of the recorded patient's race and ethnicity. What do you observe?"
      ]
    },
    {
      "cell_type": "code",
      "execution_count": 21,
      "metadata": {
        "colab": {
          "base_uri": "https://localhost:8080/",
          "height": 294
        },
        "id": "1EJZDRbh2SpE",
        "outputId": "06abb72d-62da-472c-f01e-a7e4d98820bb",
        "scrolled": false
      },
      "outputs": [
        {
          "data": {
            "image/png": "[encoded data removed]",
            "text/plain": [
              "<Figure size 432x288 with 1 Axes>"
            ]
          },
          "metadata": {
            "needs_background": "light"
          },
          "output_type": "display_data"
        }
      ],
      "source": [
        "draw_barplot(data, 'race_ethnicity', 'h')"
      ]
    },
    {
      "cell_type": "markdown",
      "metadata": {
        "id": "4dpjVLIB2SpE"
      },
      "source": [
        "### Now,  Let's check the `death` variable. \n",
        "### **STOP!**\n",
        "Run the cell below to generate the distribution of death vs. non death in the recorded cases. What do you observe? How many COVID-19 affected patients survived? How many of them passed away?"
      ]
    },
    {
      "cell_type": "code",
      "execution_count": null,
      "metadata": {
        "id": "hdYH1GLu2SpE",
        "scrolled": true
      },
      "outputs": [],
      "source": [
        "draw_barplot(data, 'death')"
      ]
    },
    {
      "cell_type": "markdown",
      "metadata": {
        "id": "gNWNue722SpF"
      },
      "source": [
        "### **STOP!**\n",
        "### What do you think is the effect of missing data on the analysis? What would be a good strategy to fix this issue?"
      ]
    },
    {
      "cell_type": "markdown",
      "metadata": {
        "id": "r1gVIyhV2SpF"
      },
      "source": [
        "In Data Science, missing data data is an everyday problem that data scientists need to deal with, as it poses a serious challenge to the whole study. Before we can use data with missing data fields, you need to transform those fields so they can be used for analysis and modelling.\n",
        "\n",
        "Some causes of the missing data are, for example, a refusal to answer some questions in a survey. There are some strategies for handling missing data, like identify nonrespondents by creating one or more special codes for those entries of the data matrix that are not observed, such as \"don't know\" or \"refuse to answer\", \"missing\", \"unknown\". Another way is excluding units that have missing value. This last strategy is very inappropriate because we are usually interested in making inferences about the entire target population, rather than the portion of the target population of some dataset.\n",
        "\n",
        "Hence, However, for the sake of practicality, we follow the most basic strategy to clean the data from Missing values: **Imputation** or removal of all of them. \n",
        "\n",
        "*Note: that this is a very dangerous decision, as we might end up with a very small dataset!*"
      ]
    },
    {
      "cell_type": "markdown",
      "metadata": {
        "id": "EKrK2oN22SpF"
      },
      "source": [
        "### **STOP!**\n",
        "### Run the following cell to drop all the examples where any of the variables have a value of `Missing` or `Unknown`.  We store the result in a new data that we call `clean_data`, that we will use in the Data Analysis part"
      ]
    },
    {
      "cell_type": "code",
      "execution_count": null,
      "metadata": {
        "id": "7Fr9Khfm2SpF"
      },
      "outputs": [],
      "source": [
        "todrop= ['Missing', 'Unknown']\n",
        "\n",
        "clean_data = data[~data['age_group'].isin(todrop) & ~data['sex'].isin(todrop) & ~data['race_ethnicity'].isin(todrop) & ~data['hospitalized'].isin(todrop) & ~data['icu'].isin(todrop) & ~data['death'].isin(todrop) & ~data['medcond'].isin(todrop)]\n",
        "clean_data.sample(5)"
      ]
    },
    {
      "cell_type": "markdown",
      "metadata": {
        "id": "0dPW7sf32SpF"
      },
      "source": [
        "# Part 3. Exploratory Data Analysis\n",
        "\n",
        "In this section, we will explore the trends and correlations of the fields describing a patient in our records against the `death` variable. We will first look at the distributions of our variables. Since all the variables are categorical, we will create bar charts."
      ]
    },
    {
      "cell_type": "markdown",
      "metadata": {
        "id": "9vrw7aqA2SpG"
      },
      "source": [
        "### Let's plot again the death vs. survival distribution. What do you observe?"
      ]
    },
    {
      "cell_type": "code",
      "execution_count": null,
      "metadata": {
        "id": "Fl4AT07k2SpG",
        "scrolled": true
      },
      "outputs": [],
      "source": [
        "draw_pie(clean_data, 'death', 'Death vs. survival distribution in our dataset')"
      ]
    },
    {
      "cell_type": "markdown",
      "metadata": {
        "id": "1uDhAP-J2SpG"
      },
      "source": [
        "### To get the specific value counts representing the number of examples in each class (death vs. no death), run the following cell."
      ]
    },
    {
      "cell_type": "code",
      "execution_count": null,
      "metadata": {
        "id": "Ec-lghWv2SpG"
      },
      "outputs": [],
      "source": [
        "#final number of true cases\n",
        "clean_data.death.value_counts()"
      ]
    },
    {
      "cell_type": "markdown",
      "metadata": {
        "id": "eXie8BJA2SpG"
      },
      "source": [
        "### To get the counts in the form of percentages, run the following cell"
      ]
    },
    {
      "cell_type": "code",
      "execution_count": null,
      "metadata": {
        "id": "HcSGb60S2SpH"
      },
      "outputs": [],
      "source": [
        "clean_data.death.value_counts(normalize=True)"
      ]
    },
    {
      "cell_type": "markdown",
      "metadata": {
        "id": "8Iem0Is92SpH"
      },
      "source": [
        "### **It is your turn!**\n",
        "\n",
        "Using a the `draw_pie() ` function (just like we did for the death variable), explore the distribution of cases per sex. What do you observe?"
      ]
    },
    {
      "cell_type": "code",
      "execution_count": null,
      "metadata": {
        "id": "HgX-wETf2SpH"
      },
      "outputs": [],
      "source": [
        "# the draw_pie function requires 3 paramaters: the dataset, the variable to be explored, and the title of the plot.\n"
      ]
    },
    {
      "cell_type": "markdown",
      "metadata": {
        "id": "lq2_XOs72SpH"
      },
      "source": [
        "### **It is your turn!**\n",
        "\n",
        "Using a the `draw_pie() ` function (just like we did for the death variable), explore the distribution of cases per age_group. What do you observe?\n"
      ]
    },
    {
      "cell_type": "code",
      "execution_count": null,
      "metadata": {
        "id": "LDNhW7tf2SpH",
        "scrolled": true
      },
      "outputs": [],
      "source": [
        "# write your code here.\n"
      ]
    },
    {
      "cell_type": "markdown",
      "metadata": {
        "id": "3uBmAKpZ2SpH"
      },
      "source": [
        "### This does not look good, and is not easy to read. Let's explore another kind of a plot: Bar plots.\n",
        "In data science, data visualization is the graphical representation of information and data. By using visual elements like charts, graphs, and maps, data visualization tools provide an accessible way to see and understand trends, outliers, and patterns in data. Data scientists should choose the right visual element depending on the task."
      ]
    },
    {
      "cell_type": "code",
      "execution_count": null,
      "metadata": {
        "id": "yeguouWS2SpH",
        "scrolled": true
      },
      "outputs": [],
      "source": [
        "draw_barplot(clean_data, 'age_group', 'h')"
      ]
    },
    {
      "cell_type": "markdown",
      "metadata": {
        "id": "cJfBoWGe2SpI"
      },
      "source": [
        "Youpiii! This looks nicer, cleaner and easier to read and interpret. \n",
        "\n",
        "**STOP!**\n",
        "\n",
        "### What do you observe?"
      ]
    },
    {
      "cell_type": "markdown",
      "metadata": {
        "id": "MPUu_IPE2SpI"
      },
      "source": [
        "### Let's explore the number of registered cases per ethnicty. To do so, complete the code in the cell below. What do you observe?"
      ]
    },
    {
      "cell_type": "code",
      "execution_count": null,
      "metadata": {
        "id": "0Uuj82qS2SpI"
      },
      "outputs": [],
      "source": [
        "# Replace 'age_group' with 'race_ethnicity' in the following line:\n",
        "draw_barplot(clean_data, 'age_group')"
      ]
    },
    {
      "cell_type": "markdown",
      "metadata": {
        "id": "CgkNW1yR2SpI"
      },
      "source": [
        "### Let's explore the number of hospitalized cases per age group. To do so, run the code in the cell below. What do you observe?"
      ]
    },
    {
      "cell_type": "code",
      "execution_count": null,
      "metadata": {
        "id": "EpkGn7002SpI",
        "scrolled": true
      },
      "outputs": [],
      "source": [
        "draw_barplot_with_hue(clean_data, 'hospitalized', 'age_group')"
      ]
    },
    {
      "cell_type": "markdown",
      "metadata": {
        "id": "ZlCoahQ72SpI"
      },
      "source": [
        "### Now, let's draw the same plot but exploring the number of hospitalized cases having an underlying comorbidity or disease. Run the code in the cell below. How can you interpret the results obtained?"
      ]
    },
    {
      "cell_type": "code",
      "execution_count": null,
      "metadata": {
        "id": "7XJp8ow42SpI",
        "scrolled": false
      },
      "outputs": [],
      "source": [
        "draw_barplot_with_hue(clean_data, 'hospitalized', 'medcond')"
      ]
    },
    {
      "cell_type": "markdown",
      "metadata": {
        "id": "9PEPH2N62SpI"
      },
      "source": [
        "### Question: Which conclusions can we draw from the plots and variables explored above? For the `medcond` what  do you think is missing? what would be great to have, to help understand the effect of a medical condition compared to another?"
      ]
    },
    {
      "cell_type": "markdown",
      "metadata": {
        "id": "l8aIgmPi2SpI"
      },
      "source": [
        "Write your answer here"
      ]
    },
    {
      "cell_type": "markdown",
      "metadata": {
        "id": "5LNrkuZH2SpJ"
      },
      "source": [
        "Now, let's focus on the death variable and its values, also how is its value depending on the rest of the fields/variables."
      ]
    },
    {
      "cell_type": "markdown",
      "metadata": {
        "id": "ZeXrLf932SpJ"
      },
      "source": [
        "### Exploring each of the  variables against the death variable\n",
        "\n",
        "The following cell, contains code that will generate a diagram showing the age categories Survival distribution. Run it and interpret the chart obtained."
      ]
    },
    {
      "cell_type": "code",
      "execution_count": null,
      "metadata": {
        "id": "gize9caN2SpJ"
      },
      "outputs": [],
      "source": [
        "draw_barplot_with_hue(clean_data, 'death', 'age_group')"
      ]
    },
    {
      "cell_type": "markdown",
      "metadata": {
        "id": "gSgfvgdC2SpJ"
      },
      "source": [
        "### **It is your turn!**\n",
        "\n",
        "Copy the code from the cell above, and generate the survival distribution per gender (think of using the `sex` variable instead of `age_group`."
      ]
    },
    {
      "cell_type": "code",
      "execution_count": null,
      "metadata": {
        "id": "FzgmI54k2SpJ"
      },
      "outputs": [],
      "source": [
        "#write your code here"
      ]
    },
    {
      "cell_type": "markdown",
      "metadata": {
        "id": "pndSbzBx2SpJ"
      },
      "source": [
        "### **It is your turn!**\n",
        "### Copy the code from the cell above, and generate the survival distribution per race and ethnicity."
      ]
    },
    {
      "cell_type": "code",
      "execution_count": null,
      "metadata": {
        "id": "0HG8On772SpJ"
      },
      "outputs": [],
      "source": [
        "#write your code here"
      ]
    },
    {
      "cell_type": "markdown",
      "metadata": {
        "id": "PcBtvs4M2SpK"
      },
      "source": [
        "### **It is your turn!**\n",
        "### Copy the code from the cell above, and use the `draw_barplot_hue()` function to generate the survival distribution per medical condition. What do you observe?"
      ]
    },
    {
      "cell_type": "code",
      "execution_count": null,
      "metadata": {
        "id": "-0E2-JZr2SpK",
        "scrolled": true
      },
      "outputs": [],
      "source": [
        "#write your code here"
      ]
    },
    {
      "cell_type": "markdown",
      "metadata": {
        "id": "LRKycmzS2SpK"
      },
      "source": [
        "### What do you observe? what does this mean? Can we draw a conclusion from these plots?\n",
        "These are the most common questions data scientists ask in order to get deep understanding of the dataset.\n",
        "Explaining and interpreting numbers and plots and any causation or correlation relationship is one of the main tasks of a data scientist. "
      ]
    },
    {
      "cell_type": "markdown",
      "metadata": {
        "id": "ZZy57NI32SpK"
      },
      "source": [
        "Based on the graphs above, we can make the following points:\n",
        "\n",
        "- Patients that are older than 80 had the highest number of deaths\n",
        "- Males had more deaths than female even though the total number of female patients was greater\n",
        "- Patients of the white race had the highest cases of death, but that is because they were the most represented in this dataset\n",
        "- Almost all of the dead patients had an underlying comorbid diseases"
      ]
    },
    {
      "cell_type": "markdown",
      "metadata": {
        "id": "0_qnzHjj2SpK"
      },
      "source": [
        "# Part 4. Modeling\n",
        "\n",
        "In this part, we build a model that can take a patient details ('case_status', 'sex', 'age_group', 'race_ethnicity', 'hospitalized', 'icu', 'medcond') as input and outputs a survival prediction value. \n",
        "\n",
        "We use Machine Learning here to build the model. \n",
        "\n",
        "It consists generally of two main steps: training the model and testing it. \n",
        "\n",
        "In order to experiment with these two steps, make sure you run the code in the cell below."
      ]
    },
    {
      "cell_type": "code",
      "execution_count": null,
      "metadata": {
        "id": "dBOryuSu2SpL"
      },
      "outputs": [],
      "source": [
        "d = pd.get_dummies(clean_data, columns =['case_status', 'sex', 'age_group', 'race_ethnicity', 'hospitalized', 'icu', 'medcond'])\n",
        "\n",
        "labels = np.array(np.where(d.death.values == 'Yes', 1, 0))\n",
        "features = d.drop(['death'], axis = 1)\n",
        "feature_list = list(features.columns)\n",
        "features = np.array(features)\n",
        "\n",
        "train_features, test_features, train_labels, test_labels = train_test_split(features, labels, test_size = 0.2)\n",
        "\n",
        "Standardisation = preprocessing.StandardScaler() \n",
        "train_features = Standardisation.fit_transform(train_features) \n",
        "\n",
        "logisticRegr = LogisticRegression()\n",
        "logisticRegr.fit(train_features, train_labels) \n",
        "\n",
        "pred_lr = logisticRegr.predict(test_features)"
      ]
    },
    {
      "cell_type": "code",
      "execution_count": null,
      "metadata": {
        "id": "6a5pM3iI2SpL"
      },
      "outputs": [],
      "source": [
        "print(\"predicted values for the 10 first cases:\", pred_lr[:10])"
      ]
    },
    {
      "cell_type": "markdown",
      "metadata": {
        "id": "78_74YEp2SpM"
      },
      "source": [
        "## Conclusion"
      ]
    },
    {
      "cell_type": "markdown",
      "metadata": {
        "id": "zs-jF9CC2SpM"
      },
      "source": [
        "We hope this work provided you with an overview on what data science is and how useful and important it is in helping scientist battling coronavirus, and other critical diseases.\n",
        "\n",
        "We also hope that you enjoyed this experience and that it inspired you in choosing Information Systems and Data Science as a major to study at CMUQ.\n"
      ]
    },
    {
      "cell_type": "markdown",
      "metadata": {
        "id": "8TRXOTc32SpM"
      },
      "source": [
        "## Acknowledgment\n",
        "\n",
        "This project is built on the implemented by Yara Al-Abdulghani and Amal Al-Korbi as part of their final project in the Practical Data Science course (67-364) during Fall 2020."
      ]
    }
  ],
  "metadata": {
    "colab": {
      "name": "Ibtikar_DS_COVID19.ipynb",
      "provenance": []
    },
    "kernelspec": {
      "display_name": "Python 3",
      "language": "python",
      "name": "python3"
    },
    "language_info": {
      "codemirror_mode": {
        "name": "ipython",
        "version": 3
      },
      "file_extension": ".py",
      "mimetype": "text/x-python",
      "name": "python",
      "nbconvert_exporter": "python",
      "pygments_lexer": "ipython3",
      "version": "3.7.6"
    }
  },
  "nbformat": 4,
  "nbformat_minor": 0
}
